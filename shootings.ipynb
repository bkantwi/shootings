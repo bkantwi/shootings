{
 "cells": [
  {
   "cell_type": "code",
   "execution_count": null,
   "id": "db389fbd",
   "metadata": {},
   "outputs": [],
   "source": [
    "# importing necessary libraries\n",
    "import pandas as pd\n",
    "import numpy as np\n",
    "import matplotlib as plt\n",
    "import matplotlib.pyplot as plt\n",
    "import seaborn as sns\n",
    "import sweetviz as sv\n",
    "import missingno\n",
    "%matplotlib inline\n",
    "import IPython\n",
    "from sklearn.model_selection import train_test_split\n",
    "import plotly.express as px\n",
    "import plotly.graph_objects as go\n",
    "import warnings\n",
    "# import pyplot as plt\n",
    "sns.set(style=\"whitegrid\") # set the background for the graphs"
   ]
  },
  {
   "cell_type": "code",
   "execution_count": null,
   "id": "3c8a71be",
   "metadata": {},
   "outputs": [],
   "source": [
    "df = pd.read_csv('shootings_datset.csv')"
   ]
  },
  {
   "cell_type": "code",
   "execution_count": null,
   "id": "5c8c872c",
   "metadata": {},
   "outputs": [],
   "source": [
    "df.columns"
   ]
  },
  {
   "cell_type": "code",
   "execution_count": null,
   "id": "e20c57df",
   "metadata": {},
   "outputs": [],
   "source": [
    "def time_series_plot(df):\n",
    "    \"\"\"Given dataframe, generate times series plot of numeric data by daily, monthly and yearly frequency\"\"\"\n",
    "    print(\"\\nTo check time series of numeric data  by daily, monthly and yearly frequency\")\n",
    "    if len(df.select_dtypes(include='datetime64').columns)>0:\n",
    "        for col in df.select_dtypes(include='datetime64').columns:\n",
    "            for p in ['D', 'M', 'Y']:\n",
    "                if p=='D':\n",
    "                    print(\"Plotting daily data\")\n",
    "                elif p=='M':\n",
    "                    print(\"Plotting monthly data\")\n",
    "                else:\n",
    "                    print(\"Plotting yearly data\")\n",
    "                for col_num in df.select_dtypes(include=np.number).columns:\n",
    "                    __ = df.copy()\n",
    "                    __ = __.set_index(col)\n",
    "                    __T = __.resample(p).sum()\n",
    "                    ax = __T[[col_num]].plot()\n",
    "                    ax.set_ylim(bottom=0)\n",
    "                    ax.get_yaxis().set_major_formatter(\n",
    "                    matplotlib.ticker.FuncFormatter(lambda x, p: format(int(x), ',')))\n",
    "                    plt.show()\n",
    "                    \n",
    "time_series_plot(df)"
   ]
  },
  {
   "cell_type": "code",
   "execution_count": null,
   "id": "4a9e7cf7",
   "metadata": {},
   "outputs": [],
   "source": [
    "def numeric_eda(df, hue=None):\n",
    "    \"\"\"Given dataframe, generate EDA of numeric data\"\"\"\n",
    "    print(\"\\nTo check: \\nDistribution of numeric data\")\n",
    "    display(df.describe().T)\n",
    "    columns = df.select_dtypes(include=np.number).columns\n",
    "    figure = plt.figure(figsize=(20, 10))\n",
    "    figure.add_subplot(1, len(columns), 1)\n",
    "    for index, col in enumerate(columns):\n",
    "        if index > 0:\n",
    "            figure.add_subplot(1, len(columns), index + 1)\n",
    "        sns.boxplot(y=col, data=df, boxprops={'facecolor': 'None'})\n",
    "    figure.tight_layout()\n",
    "    plt.show()\n",
    "    \n",
    "    if len(df.select_dtypes(include='category').columns) > 0:\n",
    "        for col_num in df.select_dtypes(include=np.number).columns:\n",
    "            for col in df.select_dtypes(include='category').columns:\n",
    "                fig = sns.catplot(x=col, y=col_num, kind='violin', data=df, height=5, aspect=2)\n",
    "                fig.set_xticklabels(rotation=90)\n",
    "                plt.show()\n",
    "    \n",
    "    # Plot the pairwise joint distributions\n",
    "    print(\"\\nTo check pairwise joint distribution of numeric data\")\n",
    "    if hue==None:\n",
    "        sns.pairplot(df.select_dtypes(include=np.number))\n",
    "    else:\n",
    "        sns.pairplot(df.select_dtypes(include=np.number).join(df[[hue]]), hue=hue)\n",
    "    plt.show()\n",
    "numeric_eda(df)"
   ]
  },
  {
   "cell_type": "code",
   "execution_count": null,
   "id": "5a19db0a",
   "metadata": {},
   "outputs": [],
   "source": [
    "def top5(df):\n",
    "    \"\"\"Given dataframe, generate top 5 unique values for non-numeric data\"\"\"\n",
    "    columns = df.select_dtypes(include=['object', 'category']).columns\n",
    "    for col in columns:\n",
    "        print(\"Top 5 unique values of \" + col)\n",
    "        print(df[col].value_counts().reset_index().rename(columns={\"index\": col, col: \"Count\"})[\n",
    "              :min(5, len(df[col].value_counts()))])\n",
    "        print(\" \")\n",
    "    \n",
    "    top5(df)"
   ]
  },
  {
   "cell_type": "code",
   "execution_count": null,
   "id": "f04e271c",
   "metadata": {},
   "outputs": [],
   "source": [
    "def categorical_eda(df, hue=None):\n",
    "    \"\"\"Given dataframe, generate EDA of categorical data\"\"\"\n",
    "    print(\"\\nTo check: \\nUnique count of non-numeric data\\n\")\n",
    "    print(df.select_dtypes(include=['object', 'category']).nunique())\n",
    "    top5(df)\n",
    "    # Plot count distribution of categorical data\n",
    "    for col in df.select_dtypes(include='category').columns:\n",
    "        fig = sns.catplot(x=col, kind=\"count\", data=df, hue=hue)\n",
    "        fig.set_xticklabels(rotation=90)\n",
    "        plt.show()\n",
    "        \n",
    "categorical_eda(df)"
   ]
  },
  {
   "cell_type": "code",
   "execution_count": null,
   "id": "459c735d",
   "metadata": {},
   "outputs": [],
   "source": [
    "def eda(df):\n",
    "    \"\"\"Given dataframe, generate exploratory data analysis\"\"\"\n",
    "    # check that input is pandas dataframe\n",
    "    if type(df) != pd.core.frame.DataFrame:\n",
    "        raise TypeError(\"Only pandas dataframe is allowed as input\")\n",
    "        \n",
    "    print(\"Preview of data:\")\n",
    "    display(df.head(3))    \n",
    "        \n",
    "    # replace field that's entirely space (or empty) with NaN\n",
    "    df = df.replace(r'^\\s*$', np.nan, regex=True)\n",
    "\n",
    "    print(\"\\nTo check: \\n (1) Total number of entries \\n (2) Column types \\n (3) Any null values\\n\")\n",
    "    print(df.info())\n",
    "\n",
    "    # generate preview of entries with null values\n",
    "    if df.isnull().any(axis=None):\n",
    "        print(\"\\nPreview of data with null values:\")\n",
    "        display(df[df.isnull().any(axis=1)].head(3))\n",
    "        missingno.matrix(df)\n",
    "        plt.show()\n",
    "\n",
    "    # generate count statistics of duplicate entries\n",
    "    if len(df[df.duplicated()]) > 0:\n",
    "        print(\"\\n***Number of duplicated entries: \", len(df[df.duplicated()]))\n",
    "        display(df[df.duplicated(keep=False)].sort_values(by=list(df.columns)).head())\n",
    "    else:\n",
    "        print(\"\\nNo duplicated entries found\")\n",
    "        \n",
    "    # Drop duplicated entries if true\n",
    "    df.drop_duplicates(inplace=True)\n",
    "\n",
    "    # EDA of categorical data\n",
    "    categorical_eda(df)\n",
    "    \n",
    "    # EDA of numeric data\n",
    "    numeric_eda(df)\n",
    "        \n",
    "    # Plot time series plot of numeric data\n",
    "    time_series_plot(df)"
   ]
  },
  {
   "cell_type": "code",
   "execution_count": null,
   "id": "9b2e86d4",
   "metadata": {},
   "outputs": [],
   "source": [
    "eda(df)"
   ]
  },
  {
   "cell_type": "code",
   "execution_count": null,
   "id": "96d0348c",
   "metadata": {},
   "outputs": [],
   "source": [
    "# separating x and y\n",
    "x = df.drop('name', axis = 1)\n",
    "y = df['name']\n",
    "x"
   ]
  },
  {
   "cell_type": "code",
   "execution_count": null,
   "id": "7cadddd9",
   "metadata": {},
   "outputs": [],
   "source": [
    "#change the object to categories data \n",
    "df.name= df['name'].astype('category')\n",
    "df.manner_of_death = df['manner_of_death'].astype('category')\n",
    "df.armed = df['armed'].astype('category')\n",
    "df.gender = df['gender'].astype('category')\n",
    "df.race=df['race'].astype('category')\n",
    "df.city=df['city'].astype('category')\n",
    "df.state=df['state'].astype('category')\n",
    "df.threat_level=df['threat_level'].astype('category')\n",
    "df.flee=df['flee'].astype('category')\n",
    "df.arms_category=df['arms_category'].astype('category')"
   ]
  },
  {
   "cell_type": "code",
   "execution_count": null,
   "id": "f17c8421",
   "metadata": {},
   "outputs": [],
   "source": [
    "#change the age value to an integer because no one has a floating age\n",
    "df.age = pd.Series(data=df.age, dtype='int')\n",
    "df"
   ]
  },
  {
   "cell_type": "code",
   "execution_count": null,
   "id": "8a086a8c",
   "metadata": {},
   "outputs": [],
   "source": [
    "#value count of each data values\n",
    "df.age.value_counts()\n",
    "df.armed.value_counts()\n",
    "df.city.value_counts()\n",
    "df.state.value_counts()\n",
    "df.manner_of_death.value_counts()\n",
    "df.signs_of_mental_illness.value_counts()\n",
    "df.threat_level.value_counts()\n",
    "df.flee.value_counts()\n",
    "df.body_camera.value_counts()\n",
    "df.arms_category.value_counts()"
   ]
  },
  {
   "cell_type": "code",
   "execution_count": null,
   "id": "177a2d47",
   "metadata": {},
   "outputs": [],
   "source": [
    "#plot the data values\n",
    "plt.title('Age with density')\n",
    "sns.kdeplot(data=df['age'])"
   ]
  },
  {
   "cell_type": "code",
   "execution_count": null,
   "id": "165dbfc1",
   "metadata": {},
   "outputs": [],
   "source": [
    "plt.figure(figsize=(10,15))\n",
    "df.hist(bins=10,color='green')\n",
    "plt.show()"
   ]
  },
  {
   "cell_type": "code",
   "execution_count": null,
   "id": "921bc7a4",
   "metadata": {},
   "outputs": [],
   "source": [
    "#show the age and date of indicence \n",
    "plt.plot_date(data=df,x='date',y='age',fmt='b')"
   ]
  },
  {
   "cell_type": "code",
   "execution_count": null,
   "id": "0f64d286",
   "metadata": {},
   "outputs": [],
   "source": [
    "plt.figure(figsize=(10,10))\n",
    "prd_gender=pd.crosstab(df['gender'],df['race'] )\n",
    "#print(prd_gender)\n",
    "ax=prd_gender.plot(kind='bar')\n",
    "plt.title(\"Race BY Gender\")\n",
    "plt.legend\n",
    "plt.show()"
   ]
  },
  {
   "cell_type": "code",
   "execution_count": null,
   "id": "508281a7",
   "metadata": {},
   "outputs": [],
   "source": [
    "plt.figure(figsize=(20,30))\n",
    "plt.barh(df['state'],df['age'])\n",
    "plt.show()"
   ]
  },
  {
   "cell_type": "code",
   "execution_count": null,
   "id": "046905f8",
   "metadata": {
    "scrolled": true
   },
   "outputs": [],
   "source": [
    "plt.figure(figsize=(10,10))\n",
    "prd_gender=pd.crosstab(df['race'],df['gender'] )\n",
    "#print(prd_gender)\n",
    "ax=prd_gender.plot(kind='bar')\n",
    "plt.title(\"Race BY Gender\")"
   ]
  },
  {
   "cell_type": "code",
   "execution_count": null,
   "id": "752d1ab4",
   "metadata": {},
   "outputs": [],
   "source": [
    "plt.bar(df['flee'],df['age'],width=0.5)\n",
    "plt.show()"
   ]
  },
  {
   "cell_type": "code",
   "execution_count": null,
   "id": "8c9991b2",
   "metadata": {
    "scrolled": true
   },
   "outputs": [],
   "source": [
    "sns.set(style='darkgrid')\n",
    "sns.displot(x=df['gender'],y=df['age'],bins=10,)\n",
    "plt.title(\"Gender against age \")\n",
    "plt.xlabel=(\"Gender\")\n",
    "plt.ylabel=('Age')"
   ]
  },
  {
   "cell_type": "code",
   "execution_count": null,
   "id": "649cf1bf",
   "metadata": {},
   "outputs": [],
   "source": [
    "plt.figure(figsize=(30,30))\n",
    "plt.barh(df['race'],df['state'])"
   ]
  },
  {
   "cell_type": "code",
   "execution_count": null,
   "id": "d7c25d33",
   "metadata": {},
   "outputs": [],
   "source": [
    "# Analysing dataset and saving to html file\n",
    "analyze_report = sv.analyze(df)\n",
    "analyze_report.show_html('shootings_analysis.html', open_browser = False)"
   ]
  },
  {
   "cell_type": "code",
   "execution_count": null,
   "id": "66033eb8",
   "metadata": {},
   "outputs": [],
   "source": [
    "# displaying analysis \n",
    "IPython.display.HTML('shootings_analysis.html')"
   ]
  },
  {
   "cell_type": "code",
   "execution_count": null,
   "id": "04f4ba2e",
   "metadata": {},
   "outputs": [],
   "source": [
    "# Training and testing model\n",
    "x_train, x_test, y_train, y_test = train_test_split(x, y, test_size = 0.2)\n",
    "\n",
    "x_train"
   ]
  },
  {
   "cell_type": "code",
   "execution_count": null,
   "id": "c7f97b49",
   "metadata": {},
   "outputs": [],
   "source": [
    "x_test"
   ]
  },
  {
   "cell_type": "code",
   "execution_count": null,
   "id": "55ebac41",
   "metadata": {},
   "outputs": [],
   "source": [
    "# Comparing dataset, train and test\n",
    "# compare_report = sv.compare([x_train, 'Train'], [x_test, 'Test'])\n",
    "# compare_report.show_html('shootings_comparison.html', open_browser = False)"
   ]
  },
  {
   "cell_type": "code",
   "execution_count": null,
   "id": "8d0e420e",
   "metadata": {},
   "outputs": [],
   "source": [
    "IPython.display.HTML('shootings_comparison.html')"
   ]
  },
  {
   "cell_type": "code",
   "execution_count": null,
   "id": "22a8eadc",
   "metadata": {},
   "outputs": [],
   "source": [
    "hist = df.hist(bins=10,figsize =(10,10))"
   ]
  },
  {
   "cell_type": "code",
   "execution_count": null,
   "id": "3bc32f30",
   "metadata": {},
   "outputs": [],
   "source": [
    "def categorical_eda(df):\n",
    "    \"\"\"Given dataframe, generate EDA of categorical data\"\"\"\n",
    "    print(\"To check: Unique count of non-numeric data\")\n",
    "    print(df.select_dtypes(include=['category']).nunique())\n",
    "    top5(df)\n",
    "    # Plot count distribution of categorical data\n",
    "    for col in df.select_dtypes(include='category').columns:\n",
    "        fig = sns.catplot(x=col, kind=\"count\", data=df)\n",
    "        fig.set_xticklabels(rotation=90)\n",
    "        plt.show(df)"
   ]
  }
 ],
 "metadata": {
  "kernelspec": {
   "display_name": "Python 3",
   "language": "python",
   "name": "python3"
  },
  "language_info": {
   "codemirror_mode": {
    "name": "ipython",
    "version": 3
   },
   "file_extension": ".py",
   "mimetype": "text/x-python",
   "name": "python",
   "nbconvert_exporter": "python",
   "pygments_lexer": "ipython3",
   "version": "3.7.11"
  }
 },
 "nbformat": 4,
 "nbformat_minor": 5
}
